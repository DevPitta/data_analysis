{
 "cells": [
  {
   "cell_type": "code",
   "execution_count": null,
   "metadata": {},
   "outputs": [],
   "source": []
  }
 ],
 "metadata": {
  "kernelspec": {
   "display_name": "envpowerbi3.7.7",
   "language": "python",
   "name": "python3"
  },
  "language_info": {
   "name": "python",
   "version": "3.7.16"
  },
  "orig_nbformat": 4,
  "vscode": {
   "interpreter": {
    "hash": "d6e6c4463ace16d83173ae22fba60c5357c05fe9100254e69c48c8654edcac1c"
   }
  }
 },
 "nbformat": 4,
 "nbformat_minor": 2
}
